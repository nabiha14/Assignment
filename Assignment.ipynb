{
 "cells": [
  {
   "cell_type": "markdown",
   "id": "78e6c360",
   "metadata": {},
   "source": [
    "## ASSIGNMENT # 1 \n",
    "### Data Science Course\n"
   ]
  },
  {
   "cell_type": "code",
   "execution_count": 3,
   "id": "3e90f309",
   "metadata": {},
   "outputs": [
    {
     "name": "stdout",
     "output_type": "stream",
     "text": [
      "Twinkle, twinkle, little star,\n",
      "        How I wonder what you are!\n",
      "                 Up above the world so high\n",
      "                 Like a diamond in the sky.\n",
      "Twinkle, twinkle, little star,\n",
      "        How I wonder what you are!\n"
     ]
    }
   ],
   "source": [
    "#QUESTION 1:\n",
    "\n",
    "print('Twinkle, twinkle, little star,')\n",
    "print('        How I wonder what you are!')\n",
    "print('                 Up above the world so high')\n",
    "print('                 Like a diamond in the sky.')\n",
    "print('Twinkle, twinkle, little star,')\n",
    "print('        How I wonder what you are!')\n"
   ]
  },
  {
   "cell_type": "code",
   "execution_count": 5,
   "id": "2c399f39",
   "metadata": {},
   "outputs": [
    {
     "name": "stdout",
     "output_type": "stream",
     "text": [
      "Python version\n",
      "3.8.8 (default, Apr 13 2021, 15:08:03) [MSC v.1916 64 bit (AMD64)]\n",
      "Version info.\n",
      "sys.version_info(major=3, minor=8, micro=8, releaselevel='final', serial=0)\n"
     ]
    }
   ],
   "source": [
    "#QUESTION 2:\n",
    "\n",
    "import sys\n",
    "print(\"Python version\")\n",
    "print(sys.version)\n",
    "print(\"Version info.\")\n",
    "print(sys.version_info)"
   ]
  },
  {
   "cell_type": "code",
   "execution_count": 18,
   "id": "ddde86bc",
   "metadata": {},
   "outputs": [
    {
     "name": "stdout",
     "output_type": "stream",
     "text": [
      "Today's date: 2021-12-30\n"
     ]
    }
   ],
   "source": [
    "#QUESTION 3:\n",
    "\n",
    "from datetime import date\n",
    "DATE= date.today()\n",
    "print(\"Today's date:\",DATE)"
   ]
  },
  {
   "cell_type": "code",
   "execution_count": 16,
   "id": "9fd6dbc1",
   "metadata": {},
   "outputs": [
    {
     "name": "stdout",
     "output_type": "stream",
     "text": [
      "Input radius of a circle: 20\n",
      "The area of a circle with radius 20.0 is: 1256.6370614359173\n"
     ]
    }
   ],
   "source": [
    "#QUESTION 4:\n",
    "\n",
    "from math import pi\n",
    "r=float(input(\"Input radius of a circle: \"))\n",
    "print (\"The area of a circle with radius \" + str(r) + \" is: \" + str(pi * r**2))"
   ]
  },
  {
   "cell_type": "code",
   "execution_count": 19,
   "id": "d5ddbaab",
   "metadata": {},
   "outputs": [
    {
     "name": "stdout",
     "output_type": "stream",
     "text": [
      "Enter your First Name : Nabiha\n",
      "Enter your Last Name: Nafees\n",
      "Nafees Nabiha\n"
     ]
    }
   ],
   "source": [
    "#QUESTION 5:\n",
    "\n",
    "First_Name=input(\"Enter your First Name : \")\n",
    "Last_Name=input(\"Enter your Last Name: \")\n",
    "print(Last_Name+ \" \"+First_Name)"
   ]
  },
  {
   "cell_type": "code",
   "execution_count": 20,
   "id": "362d641a",
   "metadata": {},
   "outputs": [
    {
     "name": "stdout",
     "output_type": "stream",
     "text": [
      "Enter First Number: 11\n",
      "Enter Second Number: 12\n",
      "The sum of 11 & 12 is 23\n"
     ]
    }
   ],
   "source": [
    "#Question6 6:\n",
    "\n",
    "a=int(input(\"Enter First Number: \"))\n",
    "b=int(input(\"Enter Second Number: \"))\n",
    "print(\"The sum of\" , a , \"&\" ,b, \"is\" , a+b)"
   ]
  },
  {
   "cell_type": "code",
   "execution_count": null,
   "id": "aef26f36",
   "metadata": {},
   "outputs": [],
   "source": []
  }
 ],
 "metadata": {
  "kernelspec": {
   "display_name": "Python 3",
   "language": "python",
   "name": "python3"
  },
  "language_info": {
   "codemirror_mode": {
    "name": "ipython",
    "version": 3
   },
   "file_extension": ".py",
   "mimetype": "text/x-python",
   "name": "python",
   "nbconvert_exporter": "python",
   "pygments_lexer": "ipython3",
   "version": "3.8.8"
  }
 },
 "nbformat": 4,
 "nbformat_minor": 5
}
